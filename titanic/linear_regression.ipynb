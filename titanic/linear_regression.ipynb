{
 "cells": [
  {
   "cell_type": "markdown",
   "id": "b2583386",
   "metadata": {},
   "source": [
    "# Linear Regression"
   ]
  },
  {
   "cell_type": "code",
   "execution_count": 13,
   "id": "4ac3fd82",
   "metadata": {},
   "outputs": [],
   "source": [
    "import numpy as np\n",
    "import pandas as pd\n",
    "\n",
    "import random"
   ]
  },
  {
   "cell_type": "code",
   "execution_count": 28,
   "id": "40a432e6",
   "metadata": {},
   "outputs": [],
   "source": [
    "pd.options.mode.copy_on_write = True"
   ]
  },
  {
   "cell_type": "code",
   "execution_count": 3,
   "id": "8519e32a",
   "metadata": {},
   "outputs": [],
   "source": [
    "train = pd.read_csv(\"train_eda.csv\")\n",
    "test = pd.read_csv(\"test_eda.csv\")"
   ]
  },
  {
   "cell_type": "code",
   "execution_count": 4,
   "id": "2d3670f8",
   "metadata": {},
   "outputs": [
    {
     "data": {
      "text/html": [
       "<div>\n",
       "<style scoped>\n",
       "    .dataframe tbody tr th:only-of-type {\n",
       "        vertical-align: middle;\n",
       "    }\n",
       "\n",
       "    .dataframe tbody tr th {\n",
       "        vertical-align: top;\n",
       "    }\n",
       "\n",
       "    .dataframe thead th {\n",
       "        text-align: right;\n",
       "    }\n",
       "</style>\n",
       "<table border=\"1\" class=\"dataframe\">\n",
       "  <thead>\n",
       "    <tr style=\"text-align: right;\">\n",
       "      <th></th>\n",
       "      <th>PassengerId</th>\n",
       "      <th>Survived</th>\n",
       "      <th>Pclass</th>\n",
       "      <th>Name</th>\n",
       "      <th>Sex</th>\n",
       "      <th>Age</th>\n",
       "      <th>SibSp</th>\n",
       "      <th>Parch</th>\n",
       "      <th>Ticket</th>\n",
       "      <th>Fare</th>\n",
       "      <th>Cabin</th>\n",
       "      <th>Embarked</th>\n",
       "      <th>Cabin_L</th>\n",
       "      <th>Cabin_N</th>\n",
       "      <th>Title</th>\n",
       "      <th>Surname</th>\n",
       "    </tr>\n",
       "  </thead>\n",
       "  <tbody>\n",
       "    <tr>\n",
       "      <th>0</th>\n",
       "      <td>1</td>\n",
       "      <td>0</td>\n",
       "      <td>3</td>\n",
       "      <td>Braund, Mr. Owen Harris</td>\n",
       "      <td>male</td>\n",
       "      <td>22.0</td>\n",
       "      <td>1</td>\n",
       "      <td>0</td>\n",
       "      <td>A/5 21171</td>\n",
       "      <td>7.2500</td>\n",
       "      <td>NaN</td>\n",
       "      <td>S</td>\n",
       "      <td>NaN</td>\n",
       "      <td>NaN</td>\n",
       "      <td>Mr.</td>\n",
       "      <td>Braund</td>\n",
       "    </tr>\n",
       "    <tr>\n",
       "      <th>1</th>\n",
       "      <td>2</td>\n",
       "      <td>1</td>\n",
       "      <td>1</td>\n",
       "      <td>Cumings, Mrs. John Bradley (Florence Briggs Th...</td>\n",
       "      <td>female</td>\n",
       "      <td>38.0</td>\n",
       "      <td>1</td>\n",
       "      <td>0</td>\n",
       "      <td>PC 17599</td>\n",
       "      <td>71.2833</td>\n",
       "      <td>C85</td>\n",
       "      <td>C</td>\n",
       "      <td>C</td>\n",
       "      <td>85.0</td>\n",
       "      <td>Mrs.</td>\n",
       "      <td>Cumings</td>\n",
       "    </tr>\n",
       "    <tr>\n",
       "      <th>2</th>\n",
       "      <td>3</td>\n",
       "      <td>1</td>\n",
       "      <td>3</td>\n",
       "      <td>Heikkinen, Miss. Laina</td>\n",
       "      <td>female</td>\n",
       "      <td>26.0</td>\n",
       "      <td>0</td>\n",
       "      <td>0</td>\n",
       "      <td>STON/O2. 3101282</td>\n",
       "      <td>7.9250</td>\n",
       "      <td>NaN</td>\n",
       "      <td>S</td>\n",
       "      <td>NaN</td>\n",
       "      <td>NaN</td>\n",
       "      <td>Miss.</td>\n",
       "      <td>Heikkinen</td>\n",
       "    </tr>\n",
       "    <tr>\n",
       "      <th>3</th>\n",
       "      <td>4</td>\n",
       "      <td>1</td>\n",
       "      <td>1</td>\n",
       "      <td>Futrelle, Mrs. Jacques Heath (Lily May Peel)</td>\n",
       "      <td>female</td>\n",
       "      <td>35.0</td>\n",
       "      <td>1</td>\n",
       "      <td>0</td>\n",
       "      <td>113803</td>\n",
       "      <td>53.1000</td>\n",
       "      <td>C123</td>\n",
       "      <td>S</td>\n",
       "      <td>C</td>\n",
       "      <td>123.0</td>\n",
       "      <td>Mrs.</td>\n",
       "      <td>Futrelle</td>\n",
       "    </tr>\n",
       "    <tr>\n",
       "      <th>4</th>\n",
       "      <td>5</td>\n",
       "      <td>0</td>\n",
       "      <td>3</td>\n",
       "      <td>Allen, Mr. William Henry</td>\n",
       "      <td>male</td>\n",
       "      <td>35.0</td>\n",
       "      <td>0</td>\n",
       "      <td>0</td>\n",
       "      <td>373450</td>\n",
       "      <td>8.0500</td>\n",
       "      <td>NaN</td>\n",
       "      <td>S</td>\n",
       "      <td>NaN</td>\n",
       "      <td>NaN</td>\n",
       "      <td>Mr.</td>\n",
       "      <td>Allen</td>\n",
       "    </tr>\n",
       "  </tbody>\n",
       "</table>\n",
       "</div>"
      ],
      "text/plain": [
       "   PassengerId  Survived  Pclass  \\\n",
       "0            1         0       3   \n",
       "1            2         1       1   \n",
       "2            3         1       3   \n",
       "3            4         1       1   \n",
       "4            5         0       3   \n",
       "\n",
       "                                                Name     Sex   Age  SibSp  \\\n",
       "0                            Braund, Mr. Owen Harris    male  22.0      1   \n",
       "1  Cumings, Mrs. John Bradley (Florence Briggs Th...  female  38.0      1   \n",
       "2                             Heikkinen, Miss. Laina  female  26.0      0   \n",
       "3       Futrelle, Mrs. Jacques Heath (Lily May Peel)  female  35.0      1   \n",
       "4                           Allen, Mr. William Henry    male  35.0      0   \n",
       "\n",
       "   Parch            Ticket     Fare Cabin Embarked Cabin_L  Cabin_N  Title  \\\n",
       "0      0         A/5 21171   7.2500   NaN        S     NaN      NaN    Mr.   \n",
       "1      0          PC 17599  71.2833   C85        C       C     85.0   Mrs.   \n",
       "2      0  STON/O2. 3101282   7.9250   NaN        S     NaN      NaN  Miss.   \n",
       "3      0            113803  53.1000  C123        S       C    123.0   Mrs.   \n",
       "4      0            373450   8.0500   NaN        S     NaN      NaN    Mr.   \n",
       "\n",
       "     Surname  \n",
       "0     Braund  \n",
       "1    Cumings  \n",
       "2  Heikkinen  \n",
       "3   Futrelle  \n",
       "4      Allen  "
      ]
     },
     "execution_count": 4,
     "metadata": {},
     "output_type": "execute_result"
    }
   ],
   "source": [
    "train.head()"
   ]
  },
  {
   "cell_type": "code",
   "execution_count": 36,
   "id": "48fadf11",
   "metadata": {},
   "outputs": [],
   "source": [
    "# From the EDA notebook\n",
    "removeable_columns = [\"PassengerId\", \"Survived\"]\n",
    "categorical_columns = [\"Pclass\", \"Sex\", \"Parch\", \"Embarked\", \"SibSp\", 'Cabin_L'] \n",
    "continuous_columns = [\"Age\", \"Fare\"]\n",
    "discrete_columns = [\"Cabin_N\"]\n",
    "\n",
    "categorical_columns.append(\"Title\")\n",
    "\n",
    "feature_columns = categorical_columns + continuous_columns + discrete_columns"
   ]
  },
  {
   "cell_type": "code",
   "execution_count": null,
   "id": "a3e1a4e6",
   "metadata": {},
   "outputs": [],
   "source": [
    "# Separate inputs and outputs\n",
    "y = train[\"Survived\"]\n",
    "X, X_test = train.drop(columns=removeable_columns, axis=1), test.drop(columns=[\"PassengerId\"], axis=1)"
   ]
  },
  {
   "cell_type": "code",
   "execution_count": 25,
   "id": "a8b3b2e3",
   "metadata": {},
   "outputs": [],
   "source": [
    "# Shuffle the data\n",
    "idx = [i for i in range(len(X))]\n",
    "random.shuffle(idx)\n",
    "\n",
    "# 80/20 Split for train/val\n",
    "val_size = 0.2\n",
    "t_id = int((1-val_size)*len(X))\n",
    "X_train, X_val = X[:t_id], X[t_id:]\n",
    "y_train, y_val = y[:t_id], y[t_id:]\n"
   ]
  },
  {
   "cell_type": "code",
   "execution_count": 10,
   "id": "96d7cf93",
   "metadata": {},
   "outputs": [
    {
     "data": {
      "text/plain": [
       "['Age', 'Fare', 'Cabin_N']"
      ]
     },
     "execution_count": 10,
     "metadata": {},
     "output_type": "execute_result"
    }
   ],
   "source": [
    "continuous_columns + discrete_columns"
   ]
  },
  {
   "cell_type": "code",
   "execution_count": null,
   "id": "078744a0",
   "metadata": {},
   "outputs": [
    {
     "ename": "AssertionError",
     "evalue": "Missing Values Need to be handled",
     "output_type": "error",
     "traceback": [
      "\u001b[0;31m---------------------------------------------------------------------------\u001b[0m",
      "\u001b[0;31mAssertionError\u001b[0m                            Traceback (most recent call last)",
      "Cell \u001b[0;32mIn[41], line 17\u001b[0m\n\u001b[1;32m     13\u001b[0m     X_test[col]\u001b[38;5;241m.\u001b[39mfillna(median)\n\u001b[1;32m     16\u001b[0m missing_count \u001b[38;5;241m=\u001b[39m X_train[feature_columns]\u001b[38;5;241m.\u001b[39misna()\u001b[38;5;241m.\u001b[39msum()\u001b[38;5;241m.\u001b[39msum() \u001b[38;5;241m+\u001b[39m X_val[feature_columns]\u001b[38;5;241m.\u001b[39misna()\u001b[38;5;241m.\u001b[39msum()\u001b[38;5;241m.\u001b[39msum() \u001b[38;5;241m+\u001b[39m X_test[feature_columns]\u001b[38;5;241m.\u001b[39misna()\u001b[38;5;241m.\u001b[39msum()\u001b[38;5;241m.\u001b[39msum()\n\u001b[0;32m---> 17\u001b[0m \u001b[38;5;28;01massert\u001b[39;00m  missing_count \u001b[38;5;241m==\u001b[39m \u001b[38;5;241m0\u001b[39m, \u001b[38;5;124m\"\u001b[39m\u001b[38;5;124mMissing Values Need to be handled\u001b[39m\u001b[38;5;124m\"\u001b[39m\n",
      "\u001b[0;31mAssertionError\u001b[0m: Missing Values Need to be handled"
     ]
    }
   ],
   "source": [
    "# Impute Categorical Columns\n",
    "missing_cat_val = \"Unknown\"\n",
    "X_train[categorical_columns].fillna(missing_cat_val)\n",
    "X_val[categorical_columns].fillna(missing_cat_val)\n",
    "X_test[categorical_columns].fillna(missing_cat_val)\n",
    "\n",
    "# Impute Numerical Columns\n",
    "numerical_columns = continuous_columns+discrete_columns\n",
    "for col in numerical_columns:\n",
    "    median = X_train[col].median()\n",
    "    X_train[col].fillna(median)\n",
    "    X_val[col].fillna(median)\n",
    "    X_test[col].fillna(median)\n",
    "\n",
    "\n",
    "# missing_count = X_train[feature_columns].isna().sum().sum() + X_val[feature_columns].isna().sum().sum() + X_test[feature_columns].isna().sum().sum()\n",
    "missing_count = X_train[feature_columns].isna().sum().sum() + X_val[feature_columns].isna().sum().sum() + X_test[feature_columns].isna().sum().sum()\n",
    "\n",
    "assert  missing_count == 0, \"Missing Values Need to be handled\""
   ]
  },
  {
   "cell_type": "code",
   "execution_count": null,
   "id": "e6047845",
   "metadata": {},
   "outputs": [
    {
     "data": {
      "text/plain": [
       "0      False\n",
       "1      False\n",
       "2      False\n",
       "3      False\n",
       "4      False\n",
       "       ...  \n",
       "886    False\n",
       "887    False\n",
       "888    False\n",
       "889    False\n",
       "890    False\n",
       "Name: Cabin_N, Length: 891, dtype: bool"
      ]
     },
     "execution_count": 38,
     "metadata": {},
     "output_type": "execute_result"
    }
   ],
   "source": []
  }
 ],
 "metadata": {
  "kernelspec": {
   "display_name": ".venv",
   "language": "python",
   "name": "python3"
  },
  "language_info": {
   "codemirror_mode": {
    "name": "ipython",
    "version": 3
   },
   "file_extension": ".py",
   "mimetype": "text/x-python",
   "name": "python",
   "nbconvert_exporter": "python",
   "pygments_lexer": "ipython3",
   "version": "3.10.13"
  }
 },
 "nbformat": 4,
 "nbformat_minor": 5
}
