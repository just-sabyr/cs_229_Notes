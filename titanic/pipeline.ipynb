{
 "cells": [
  {
   "cell_type": "markdown",
   "id": "c2d4a00b",
   "metadata": {},
   "source": [
    "# Pipelined solutions to titanic"
   ]
  }
 ],
 "metadata": {
  "language_info": {
   "name": "python"
  }
 },
 "nbformat": 4,
 "nbformat_minor": 5
}
