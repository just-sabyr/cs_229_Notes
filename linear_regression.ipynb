{
 "cells": [
  {
   "cell_type": "markdown",
   "id": "8070f263",
   "metadata": {},
   "source": [
    "# Linear Regression\n",
    "\n",
    "## Outline\n",
    "1. What is Supervised Learning\n",
    "2. Classification vs. Regression\n",
    "3. What is Linear Regression \n",
    "4. Cost/Loss Function\n",
    "5. Gradient Descent"
   ]
  },
  {
   "cell_type": "markdown",
   "id": "4bb9e2b7",
   "metadata": {},
   "source": [
    "## 1. Supervised Learning\n",
    "\n",
    "At the training time we are presented with both the inputs and outputs, and our goal is to make a model that predicts outputs based on the inputs (for the unseen/future data). So we learn parameters for the models to improve our prediction score (or rather reduce the error in our predictions) based on the training data.\n",
    "\n",
    "### The assumptions (not requirements, we just simplify the difficulty of modelling the) of supervised learning algorithms: \n",
    "* IID (Independent and Identically Distributed) data (X, y).\n",
    "The conditional probability can be modeled by p(y_i | X_i) and\n",
    "1. Identical: p(y_i | X_i) is the same for all samples \n",
    "2. Independent: X_i is independent from X_j and the same is true for y_i and y_j\n",
    "\n",
    "\\* But sometimes there are outliers which need to be handled.\n",
    "\n",
    "Notation Info: <br>\n",
    "    &emsp; A sample i is X_i and y_i. Where X_i is the input and y_i is the output. <br>\n",
    "    &emsp; Model's prediction for sample i is y_hat_i."
   ]
  },
  {
   "cell_type": "markdown",
   "id": "db18f867",
   "metadata": {},
   "source": [
    "## 2. Classification vs. Regression\n",
    "\n",
    "There are two main categories of Supervised Learning algorithms: Classification and Regression\n"
   ]
  },
  {
   "cell_type": "markdown",
   "id": "5887f39e",
   "metadata": {},
   "source": []
  },
  {
   "cell_type": "code",
   "execution_count": null,
   "id": "3c362538",
   "metadata": {
    "vscode": {
     "languageId": "plaintext"
    }
   },
   "outputs": [],
   "source": []
  }
 ],
 "metadata": {
  "language_info": {
   "name": "python"
  }
 },
 "nbformat": 4,
 "nbformat_minor": 5
}
